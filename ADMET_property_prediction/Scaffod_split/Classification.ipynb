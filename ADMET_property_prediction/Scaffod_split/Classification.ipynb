{
 "cells": [
  {
   "cell_type": "code",
   "execution_count": null,
   "metadata": {},
   "outputs": [],
   "source": [
    "import numpy as np\n",
    "import torch\n",
    "import torch.nn as nn\n",
    "from torch.utils.data import DataLoader\n",
    "from sklearn.model_selection import train_test_split\n",
    "import pandas as pd\n",
    "from sklearn.model_selection import KFold\n",
    "from sklearn.metrics import accuracy_score, f1_score, recall_score, roc_auc_score, precision_score, average_precision_score\n",
    "from sklearn.metrics import r2_score, mean_squared_error, root_mean_squared_error, mean_absolute_error, mean_absolute_percentage_error\n",
    "from scipy.stats import pearsonr\n",
    "from utils import EarlyStopping, load_fingerprints, MLP, CustomDataset\n",
    "from deepchem.data import NumpyDataset\n",
    "from deepchem.splits import ScaffoldSplitter\n",
    "\n",
    "device = 'cuda' if torch.cuda.is_available() else 'cpu'\n",
    "\n",
    "# for reproducibility\n",
    "torch.manual_seed(777)\n",
    "np.random.seed(777)\n",
    "if device == 'cuda':\n",
    "    torch.cuda.manual_seed_all(777)\n",
    "\n",
    "# 고정된 랜덤 시드를 사용하여 재현 가능한 셔플링 설정\n",
    "g = torch.Generator()\n",
    "g.manual_seed(777)  # 고정된 시드 설정\n",
    "\n",
    "if torch.cuda.is_available():\n",
    "    torch.cuda.manual_seed(777)\n",
    "    torch.cuda.manual_seed_all(777)  # 멀티 GPU 환경 시 사용\n",
    "    torch.backends.cudnn.deterministic = True\n",
    "    torch.backends.cudnn.benchmark = False\n",
    "    \n",
    "nBits=1024\n",
    "num_epochs = 300\n",
    "k_folds=5\n",
    "patience = 10\n",
    "\n",
    "file_path = ''\n",
    "file_fingerprint = ''"
   ]
  },
  {
   "cell_type": "code",
   "execution_count": null,
   "metadata": {},
   "outputs": [],
   "source": [
    "def generate_scaffold_splits(train_dataset, n_splits=5, seed=42):\n",
    "    splitter = ScaffoldSplitter()\n",
    "    scaffold_splits = []\n",
    "    np.random.seed(seed)\n",
    "    \n",
    "    indices = np.arange(len(train_dataset))\n",
    "    \n",
    "    for _ in range(n_splits):\n",
    "        # 데이터를 무작위로 섞기\n",
    "        np.random.shuffle(indices)\n",
    "        shuffled_dataset = train_dataset.select(indices)\n",
    "        \n",
    "        # Train 데이터를 Scaffold Split으로 나눔 (Train:Valid = 4:1)\n",
    "        train_subset, valid_subset = splitter.train_test_split(\n",
    "            shuffled_dataset, frac_train=0.8, seed=np.random.randint(1e6)\n",
    "        )\n",
    "        scaffold_splits.append((train_subset, valid_subset))\n",
    "    \n",
    "    return scaffold_splits"
   ]
  }
 ],
 "metadata": {
  "kernelspec": {
   "display_name": "MLDL",
   "language": "python",
   "name": "mldl"
  },
  "language_info": {
   "name": "python",
   "version": "3.11.8"
  }
 },
 "nbformat": 4,
 "nbformat_minor": 2
}
